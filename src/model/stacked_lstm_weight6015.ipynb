{
  "cells": [
    {
      "cell_type": "code",
      "execution_count": null,
      "metadata": {},
      "outputs": [],
      "source": [
        "# to unzip the input data\n",
        "!gzip -d <file path>"
      ]
    },
    {
      "cell_type": "code",
      "execution_count": null,
      "metadata": {},
      "outputs": [],
      "source": []
    },
    {
      "cell_type": "code",
      "execution_count": null,
      "metadata": {
        "colab": {
          "base_uri": "https://localhost:8080/",
          "height": 345
        },
        "id": "hpVqb0TXXCPK",
        "outputId": "ebb873ab-a7ac-40ba-941f-0dfd241df868"
      },
      "outputs": [],
      "source": [
        "from google.colab import drive\n",
        "drive.mount(\"/content/drive\")"
      ]
    },
    {
      "cell_type": "markdown",
      "metadata": {
        "id": "dvzbTJ0c5l9S"
      },
      "source": [
        "### Data preprocessing"
      ]
    },
    {
      "cell_type": "code",
      "execution_count": null,
      "metadata": {
        "id": "c4OnWRBq5l9W"
      },
      "outputs": [],
      "source": [
        "import numpy as np\n",
        "import pandas as pd\n",
        "import matplotlib.pyplot as plt\n",
        "\n",
        "import tensorflow as tf"
      ]
    },
    {
      "cell_type": "code",
      "execution_count": null,
      "metadata": {
        "id": "1EjfZSY-5l9Y"
      },
      "outputs": [],
      "source": [
        "trainData = pd.read_csv('drive/MyDrive/grad/testData.csv', header=None)\n",
        "trainData.columns = [\"timestamp\",\"sector_id\", \"# of blocks\"]\n",
        "trainData.head()"
      ]
    },
    {
      "cell_type": "code",
      "execution_count": null,
      "metadata": {
        "id": "XlXkxTqhU48s"
      },
      "outputs": [],
      "source": [
        "# Average access time interval - AATI\n",
        "trainDataClustered = pd.read_csv(\"drive/MyDrive/grad/testDataClustered.csv\")\n",
        "trainDataClustered.columns = [\"sector_id\", \"frequency\", \"AATI\", \"time_interval_std\", \"# of blocks\", \"cluster\"]\n",
        "trainDataClustered.head()"
      ]
    },
    {
      "cell_type": "code",
      "execution_count": null,
      "metadata": {
        "id": "WJslOrpLXn_w"
      },
      "outputs": [],
      "source": [
        "# train label size\n",
        "trainLabelSize = trainDataClustered.shape[0]\n",
        "trainLabelSize"
      ]
    },
    {
      "cell_type": "code",
      "execution_count": null,
      "metadata": {
        "id": "M5129sSMuVaC"
      },
      "outputs": [],
      "source": [
        "hashmap_cold = {}\n",
        "hashmap_cool = {}\n",
        "hashmap_warm = {}\n",
        "trainClusterSize = trainDataClustered.shape[0]\n",
        "\n",
        "# the clustered data will be divided like following lines\n",
        "# cluster 1,3 -> warm\n",
        "# cluster 2 -> cold\n",
        "# cluster 0 ->  cool\n",
        "for i in range(trainClusterSize):\n",
        "  if trainDataClustered[\"cluster\"][i] == 3 or trainDataClustered[\"cluster\"][i] == 1:\n",
        "    hashmap_cold[trainDataClustered[\"sector_id\"][i]] = 0\n",
        "    hashmap_cool[trainDataClustered[\"sector_id\"][i]] = 0\n",
        "    hashmap_warm[trainDataClustered[\"sector_id\"][i]] = 1\n",
        "  elif trainDataClustered[\"cluster\"][i] == 2:\n",
        "    hashmap_cold[trainDataClustered[\"sector_id\"][i]] = 1\n",
        "    hashmap_cool[trainDataClustered[\"sector_id\"][i]] = 0\n",
        "    hashmap_warm[trainDataClustered[\"sector_id\"][i]] = 0\n",
        "  else:\n",
        "    hashmap_cold[trainDataClustered[\"sector_id\"][i]] = 0\n",
        "    hashmap_cool[trainDataClustered[\"sector_id\"][i]] = 1\n",
        "    hashmap_warm[trainDataClustered[\"sector_id\"][i]] = 0\n",
        "    \n",
        "# checking NaN (Not a Number) exists or not\n",
        "trainData[\"cold\"] = [hashmap_cold[sectorId] if sectorId in hashmap_cold else np.nan for sectorId in trainData[\"sector_id\"]]\n",
        "trainData[\"cool\"] = [hashmap_cool[sectorId] if sectorId in hashmap_cool else np.nan for sectorId in trainData[\"sector_id\"]]\n",
        "trainData[\"warm\"] = [hashmap_warm[sectorId] if sectorId in hashmap_warm else np.nan for sectorId in trainData[\"sector_id\"]]"
      ]
    },
    {
      "cell_type": "code",
      "execution_count": null,
      "metadata": {
        "id": "24eNGPO95l9f"
      },
      "outputs": [],
      "source": [
        "assert not np.any(np.isnan(trainData[\"cold\"]))\n",
        "assert not np.any(np.isnan(trainData[\"cool\"]))\n",
        "assert not np.any(np.isnan(trainData[\"warm\"]))"
      ]
    },
    {
      "cell_type": "markdown",
      "metadata": {
        "id": "LA07LGbBNDHx"
      },
      "source": [
        "New feature for timestamp difference"
      ]
    },
    {
      "cell_type": "code",
      "execution_count": null,
      "metadata": {
        "id": "dg9yAbBvNJBR"
      },
      "outputs": [],
      "source": [
        "trainDataSize = trainData.shape[0]\n",
        "print(trainDataSize)\n",
        "\n",
        "lastSectorEncounter = {}\n",
        "timeDelta = [0] * trainDataSize\n",
        "\n",
        "for i in range(trainDataSize):\n",
        "  \n",
        "  sectorId = trainData[\"sector_id\"][i]\n",
        "  if sectorId in lastSectorEncounter:\n",
        "    timeDelta[i] = trainData[\"timestamp\"][i] - lastSectorEncounter[sectorId]\n",
        "  else:\n",
        "    timeDelta[i] = 0\n",
        "  lastSectorEncounter[sectorId] = trainData[\"timestamp\"][i]\n",
        "\n",
        "trainData[\"time_delta\"] = timeDelta\n",
        "# trainData[\"timestamp_delta\"] = [trainData[\"timestamp\"][i] - lastSectorEncounter if trainData[\"sector_id\"][i] in lastSectorEncounter else  for i in range(trainDataSize)]\n"
      ]
    },
    {
      "cell_type": "code",
      "execution_count": null,
      "metadata": {
        "id": "lPKZrk29W7sR"
      },
      "outputs": [],
      "source": [
        "trainDeltaMean = trainData[\"time_delta\"].mean()\n",
        "trainDeltaStd = trainData[\"time_delta\"].std()\n",
        "\n",
        "trainData[\"time_delta\"] = (trainData[\"time_delta\"] - trainDeltaMean) / trainDeltaStd"
      ]
    },
    {
      "cell_type": "code",
      "execution_count": null,
      "metadata": {
        "id": "sq0dDnOJW7sR"
      },
      "outputs": [],
      "source": [
        "print(\"trainDataMean: \",trainDeltaMean)\n",
        "print(\"trainDataStd: \",trainDeltaStd)\n",
        "\n",
        "trainData.shape[0]"
      ]
    },
    {
      "cell_type": "code",
      "execution_count": null,
      "metadata": {
        "id": "wDrKe2YZgOGJ"
      },
      "outputs": [],
      "source": [
        "# spliting index on data\n",
        "# train data - 60%, validation data - 20%, test data - 20%\n",
        "split = int(trainData.shape[0] * 0.6)\n",
        "testSplit = int(trainData.shape[0] * 0.2)"
      ]
    },
    {
      "cell_type": "code",
      "execution_count": null,
      "metadata": {
        "id": "Eac9R0SOFZIn"
      },
      "outputs": [],
      "source": [
        "windowTrain = trainData[[\"sector_id\",\"time_delta\", \"warm\", \"cool\", \"cold\"]].iloc[ : split].reset_index(drop=True)\n",
        "windowTest = trainData[[\"sector_id\",\"time_delta\", \"warm\", \"cool\", \"cold\"]].iloc[split : split + testSplit].reset_index(drop=True)\n",
        "windowVal = trainData[[\"sector_id\",\"time_delta\", \"warm\", \"cool\", \"cold\"]].iloc[split + testSplit : ].reset_index(drop=True)"
      ]
    },
    {
      "cell_type": "code",
      "execution_count": null,
      "metadata": {
        "id": "1uccE0rUaVRc"
      },
      "outputs": [],
      "source": [
        "windowTrainSize = windowTrain.shape[0]\n",
        "\n",
        "warmPercentage = windowTrain[\"warm\"].value_counts()[1] / windowTrain.shape[0]\n",
        "coolPercentage = windowTrain[\"cool\"].value_counts()[1] / windowTrain.shape[0]\n",
        "coldPercentage = windowTrain[\"cold\"].value_counts()[1] / windowTrain.shape[0]\n",
        "\n",
        "print(coldPercentage)\n",
        "print(coolPercentage)\n",
        "print(warmPercentage)"
      ]
    },
    {
      "cell_type": "code",
      "execution_count": null,
      "metadata": {
        "id": "mluGV2WQoBfj"
      },
      "outputs": [],
      "source": [
        "class_weight = {0: 60, 1: 15, 2: 1}"
      ]
    },
    {
      "cell_type": "markdown",
      "metadata": {
        "id": "dy3KuJzfnMZE"
      },
      "source": [
        "### Save splitted data\n"
      ]
    },
    {
      "cell_type": "code",
      "execution_count": null,
      "metadata": {
        "id": "EWt5iuECueKb"
      },
      "outputs": [],
      "source": [
        "pdTrain = pd.DataFrame(trainData.iloc[ : split].reset_index(drop=True))\n",
        "pdTest = pd.DataFrame(trainData.iloc[split : split + testSplit].reset_index(drop=True))\n",
        "pdValidate = pd.DataFrame(trainData.iloc[split + testSplit : ].reset_index(drop=True))"
      ]
    },
    {
      "cell_type": "code",
      "execution_count": null,
      "metadata": {
        "id": "QuegyMF0vy_u"
      },
      "outputs": [],
      "source": [
        "pdTrain.to_csv(\"drive/MyDrive/grad/Data/trainData.csv\", index=False)\n",
        "pdTest.to_csv(\"drive/MyDrive/grad/Data/testData.csv\", index=False)\n",
        "pdValidate.to_csv(\"drive/MyDrive/grad/Data/valData.csv\", index=False)"
      ]
    },
    {
      "cell_type": "markdown",
      "metadata": {
        "id": "taF77RgcnfZH"
      },
      "source": [
        "### BATCH_SIZE WINDOW_SIZE"
      ]
    },
    {
      "cell_type": "code",
      "execution_count": null,
      "metadata": {
        "id": "MNfw_yD-W4FV"
      },
      "outputs": [],
      "source": [
        "BATCH_SIZE = 256\n",
        "WINDOW_SIZE = 128"
      ]
    },
    {
      "cell_type": "code",
      "execution_count": null,
      "metadata": {
        "id": "zVMOuXUgOPxD"
      },
      "outputs": [],
      "source": [
        "class WindowGenerator():\n",
        "  def __init__(self, input_width, label_width, shift,\n",
        "               train_df=windowTrain,val_df=windowVal, test_df=windowTest,\n",
        "               label_columns=None, input_columns=None):\n",
        "    # Store the raw data.\n",
        "    self.train_df = train_df\n",
        "    self.val_df = val_df\n",
        "    self.test_df = test_df\n",
        "\n",
        "    # Work out the label and input column indices.\n",
        "    self.label_columns = label_columns\n",
        "    self.input_columns = input_columns\n",
        "\n",
        "    if label_columns is not None:\n",
        "      self.label_columns_indices = {name: i for i, name in\n",
        "                                    enumerate(label_columns)}\n",
        "    if input_columns is not None:\n",
        "      self.input_columns_indices = {name: i for i, name in\n",
        "                                    enumerate(input_columns)}\n",
        "\n",
        "    self.column_indices = {name: i for i, name in\n",
        "                           enumerate(train_df.columns)}\n",
        "\n",
        "\n",
        "    # Work out the window parameters.\n",
        "    self.input_width = input_width\n",
        "    self.label_width = label_width\n",
        "    self.shift = shift\n",
        "\n",
        "    self.total_window_size = input_width + shift\n",
        "\n",
        "    self.input_slice = slice(0, input_width)\n",
        "    self.input_indices = np.arange(self.total_window_size)[self.input_slice]\n",
        "\n",
        "    self.label_start = self.total_window_size - self.label_width\n",
        "    self.labels_slice = slice(self.label_start, None)\n",
        "    self.label_indices = np.arange(self.total_window_size)[self.labels_slice]\n",
        "\n",
        "  def __repr__(self):\n",
        "    return '\\n'.join([\n",
        "        f'Total window size: {self.total_window_size}',\n",
        "        f'Input indices: {self.input_indices}',\n",
        "        f'Label indices: {self.label_indices}',\n",
        "        f'Label column name(s): {self.label_columns}'])\n",
        "\n",
        "  def split_window(self, features):\n",
        "    inputs = features[:, self.input_slice, :]\n",
        "    labels = features[:, self.labels_slice, :]\n",
        "    if self.label_columns is not None:\n",
        "      labels = tf.stack(\n",
        "          [labels[:, :, self.column_indices[name]] for name in self.label_columns],\n",
        "          axis=-1)\n",
        "\n",
        "    if self.input_columns is not None:\n",
        "      inputs = tf.stack(\n",
        "          [inputs[:, :, self.column_indices[name]] for name in self.input_columns],\n",
        "          axis=-1)\n",
        "  \n",
        "    # Slicing doesn't preserve static shape information, so set the shapes\n",
        "    # manually. This way the `tf.data.Datasets` are easier to inspect.\n",
        "    inputs.set_shape([None, self.input_width, None])\n",
        "    labels.set_shape([None, self.label_width, None])\n",
        "  \n",
        "    return inputs, labels\n",
        "\n",
        "  def make_dataset(self, data):\n",
        "    data = np.array(data, dtype=np.float32)\n",
        "    ds = tf.keras.utils.timeseries_dataset_from_array(\n",
        "        data=data,\n",
        "        targets=None,\n",
        "        sequence_length=self.total_window_size,\n",
        "        sequence_stride=1,\n",
        "        shuffle=False,\n",
        "        batch_size=BATCH_SIZE,\n",
        "    )\n",
        "\n",
        "    ds = ds.map(self.split_window)\n",
        "\n",
        "    return ds\n",
        "  \n",
        "  @property\n",
        "  def train(self):\n",
        "    return self.make_dataset(self.train_df)\n",
        "  \n",
        "  @property\n",
        "  def val(self):\n",
        "    return self.make_dataset(self.val_df)\n",
        "\n",
        "  @property\n",
        "  def test(self):\n",
        "    return self.make_dataset(self.test_df)\n",
        "  \n",
        "  @property\n",
        "  def example(self):\n",
        "    \"\"\"Get and cache an example batch of `inputs, labels` for plotting. \"\"\"\n",
        "    result = getattr(self, '_example', None)\n",
        "    if result is None:\n",
        "      # No example batch was found, so get from the `.train` dataset\"\"\"\n",
        "      result = next(iter(self.train))\n",
        "      # And cache it for next time\n",
        "      self._example = result\n",
        "    return result\n"
      ]
    },
    {
      "cell_type": "code",
      "execution_count": null,
      "metadata": {
        "id": "7pUeQFq6QXo5"
      },
      "outputs": [],
      "source": [
        "window = WindowGenerator(WINDOW_SIZE, 1, 0, input_columns=[\"sector_id\", \"time_delta\"], label_columns=[\"cold\", \"cool\", \"warm\",])"
      ]
    },
    {
      "cell_type": "markdown",
      "metadata": {
        "id": "bYy0ysyc5l9i"
      },
      "source": [
        "### Model Implementation"
      ]
    },
    {
      "cell_type": "markdown",
      "metadata": {
        "id": "cEzyYxz-841W"
      },
      "source": [
        "Normalization on features using tf.Normalization"
      ]
    },
    {
      "cell_type": "code",
      "execution_count": null,
      "metadata": {
        "id": "fOwxupd5nbWG"
      },
      "outputs": [],
      "source": [
        "def datasetConverter(dataset):\n",
        "  def converter(features, labels):\n",
        "    return (features[:,:,0:1], features[:,:,1:2]), tf.reshape(labels, [tf.shape(labels)[0], 3])\n",
        "  \n",
        "  res = dataset.map(converter)\n",
        "  return res"
      ]
    },
    {
      "cell_type": "code",
      "execution_count": null,
      "metadata": {
        "id": "BTRu9t1J5l9l"
      },
      "outputs": [],
      "source": [
        "# embedding the sector number from 0-1\n",
        "# input_shape=(number of time steps, number of features)\n",
        "n_steps = WINDOW_SIZE\n",
        "n_features = 2\n",
        "\n",
        "embedInput = tf.keras.layers.Input(shape=(n_steps,))\n",
        "blocksInput = tf.keras.layers.Input(shape=(n_steps,))\n",
        "\n",
        "integerLookupLayer = tf.keras.layers.IntegerLookup(max_tokens=trainLabelSize)\n",
        "integerLookupLayer.adapt(windowTrain[\"sector_id\"])\n",
        "integerMap = integerLookupLayer(embedInput)\n",
        "emb = tf.keras.layers.Embedding(input_dim=trainLabelSize, output_dim=64, input_length=n_steps)(integerMap)\n",
        "\n",
        "reg = tf.keras.regularizers.l2(0.01)\n",
        "\n",
        "lstm = tf.keras.layers.LSTM(64, kernel_regularizer=reg, \n",
        "                            recurrent_regularizer=reg, \n",
        "                            bias_regularizer=reg, return_sequences=True)(emb)\n",
        "                            \n",
        "lstm = tf.keras.layers.LSTM(64, kernel_regularizer=reg, \n",
        "                            recurrent_regularizer=reg, \n",
        "                            bias_regularizer=reg)(lstm)\n",
        "\n",
        "dropout = tf.keras.layers.Dropout(0.2)(lstm)\n",
        "\n",
        "flatten = tf.keras.layers.Flatten()(dropout)\n",
        "conc = tf.keras.layers.Concatenate()([flatten, blocksInput])\n",
        "\n",
        "out = tf.keras.layers.Dense(3, activation='softmax')(conc)\n",
        "model = tf.keras.Model(inputs=(embedInput,blocksInput), outputs=out)\n",
        "\n",
        "model.summary()"
      ]
    },
    {
      "cell_type": "code",
      "execution_count": null,
      "metadata": {
        "id": "8--m0NtvkcU4"
      },
      "outputs": [],
      "source": [
        "MAX_EPOCHS = 20\n",
        "def compile_and_fit(model, window, patience=2, epochs=MAX_EPOCHS):\n",
        "  early_stopping = tf.keras.callbacks.EarlyStopping('loss', patience=patience, mode='min')\n",
        "\n",
        "  model.compile(loss=tf.keras.losses.CategoricalCrossentropy(), \n",
        "                optimizer=tf.keras.optimizers.Adam(), metrics=['accuracy'])\n",
        "\n",
        "  trainDataset = datasetConverter(window.train)\n",
        "  \n",
        "  validationDataset = datasetConverter(window.val)\n",
        "\n",
        "  history = model.fit(trainDataset, epochs=epochs, \n",
        "                      callbacks=[early_stopping], validation_data=validationDataset, class_weight=class_weight)\n",
        "\n",
        "  return history\n",
        "  "
      ]
    },
    {
      "cell_type": "code",
      "execution_count": null,
      "metadata": {
        "id": "BJti7Si6AjJn"
      },
      "outputs": [],
      "source": [
        "history = compile_and_fit(model, window)"
      ]
    },
    {
      "cell_type": "markdown",
      "metadata": {
        "id": "IEO84m01OOZJ"
      },
      "source": [
        "### Save Model"
      ]
    },
    {
      "cell_type": "code",
      "execution_count": null,
      "metadata": {
        "id": "mvHw387RdUmG"
      },
      "outputs": [],
      "source": [
        "# saving a file in given path\n",
        "model.save(\"drive/MyDrive/grad/stacked_lstm_weight6015\", save_format='tf')"
      ]
    },
    {
      "cell_type": "code",
      "execution_count": null,
      "metadata": {
        "id": "6GVClYjh-a94"
      },
      "outputs": [],
      "source": [
        "# used for simulating\n",
        "!saved_model_cli show --dir drive/MyDrive/grad/stacked_lstm_weight6015 --tag_set serve --signature_def serving_default "
      ]
    },
    {
      "cell_type": "markdown",
      "metadata": {
        "id": "H2KARnjrPyAI"
      },
      "source": [
        "### Load model and fit\n"
      ]
    },
    {
      "cell_type": "code",
      "execution_count": null,
      "metadata": {
        "id": "GlVOOR0wrvmV"
      },
      "outputs": [],
      "source": [
        "LoadedModel = tf.keras.models.load_model('drive/MyDrive/grad/stacked_lstm_weight6015/')"
      ]
    },
    {
      "cell_type": "code",
      "execution_count": null,
      "metadata": {
        "id": "0edR72WDSwga"
      },
      "outputs": [],
      "source": [
        "results = LoadedModel.evaluate(datasetConverter(window.test))"
      ]
    },
    {
      "cell_type": "code",
      "execution_count": null,
      "metadata": {
        "id": "lAPSGL9Za1_l"
      },
      "outputs": [],
      "source": [
        "predictions = LoadedModel.predict(datasetConverter(window.test))"
      ]
    },
    {
      "cell_type": "markdown",
      "metadata": {
        "id": "10QEoIOpcpOF"
      },
      "source": [
        "### Evaluation"
      ]
    },
    {
      "cell_type": "code",
      "execution_count": null,
      "metadata": {
        "id": "KG5NoLe_EYv6"
      },
      "outputs": [],
      "source": [
        "results = model.evaluate(datasetConverter(window.test))\n",
        "print(results)"
      ]
    },
    {
      "cell_type": "code",
      "execution_count": null,
      "metadata": {
        "id": "cFcdWvCVLg_3"
      },
      "outputs": [],
      "source": [
        "predictions = model.predict(datasetConverter(window.test))"
      ]
    },
    {
      "cell_type": "code",
      "execution_count": null,
      "metadata": {
        "id": "lY9R6kD6OxqV"
      },
      "outputs": [],
      "source": [
        "correct = 0\n",
        "pSize = predictions.shape[0]\n",
        "y_hat = np.argmax(predictions, axis = 1)\n",
        "\n",
        "cold = 0\n",
        "cool = 0\n",
        "warm = 0\n",
        "\n",
        "for i in range(pSize):\n",
        "  if y_hat[i] == 0 and windowTest[\"cold\"][i + WINDOW_SIZE - 1] == 1:\n",
        "    correct += 1\n",
        "    cold += 1\n",
        "\n",
        "  if y_hat[i] == 1 and windowTest[\"cool\"][i + WINDOW_SIZE - 1] == 1:\n",
        "    correct += 1\n",
        "    cool += 1\n",
        "\n",
        "  if y_hat[i] == 2 and windowTest[\"warm\"][i + WINDOW_SIZE - 1] == 1:\n",
        "    correct += 1\n",
        "    warm += 1\n",
        "\n",
        "print(\"Accuracy: \", correct / pSize)\n",
        "print(\"Cold: \", cold / windowTest[\"cold\"].value_counts()[1])\n",
        "print(\"Cool: \", cool / windowTest[\"cool\"].value_counts()[1])\n",
        "print(\"Warm: \", warm / windowTest[\"warm\"].value_counts()[1])"
      ]
    },
    {
      "cell_type": "markdown",
      "metadata": {
        "id": "PJ-Q959b5DRS"
      },
      "source": [
        "Plotting"
      ]
    },
    {
      "cell_type": "code",
      "execution_count": null,
      "metadata": {
        "id": "wB0FGO-K3-jB"
      },
      "outputs": [],
      "source": [
        "# the histogram of the data\n",
        "n, bins, patches = plt.hist(y_hat, 10, density=True, facecolor='g', alpha=0.75)\n",
        "plt.xlabel('Probability')\n",
        "plt.ylabel('Density')\n",
        "plt.title('Histogram of model prediction')\n",
        "plt.xlim(0, 3)\n",
        "plt.grid(True)\n",
        "plt.show()"
      ]
    }
  ],
  "metadata": {
    "accelerator": "GPU",
    "colab": {
      "collapsed_sections": [
        "dy3KuJzfnMZE",
        "H2KARnjrPyAI",
        "BduETYH0wCaC",
        "OtqfbKjppc0X"
      ],
      "machine_shape": "hm",
      "provenance": []
    },
    "gpuClass": "standard",
    "kernelspec": {
      "display_name": "Python 3.10.4 64-bit",
      "language": "python",
      "name": "python3"
    },
    "language_info": {
      "codemirror_mode": {
        "name": "ipython",
        "version": 3
      },
      "file_extension": ".py",
      "mimetype": "text/x-python",
      "name": "python",
      "nbconvert_exporter": "python",
      "pygments_lexer": "ipython3",
      "version": "3.10.4"
    },
    "vscode": {
      "interpreter": {
        "hash": "31f2aee4e71d21fbe5cf8b01ff0e069b9275f58929596ceb00d14d90e3e16cd6"
      }
    }
  },
  "nbformat": 4,
  "nbformat_minor": 0
}
